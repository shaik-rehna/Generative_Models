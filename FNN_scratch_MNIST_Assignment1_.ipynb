{
 "cells": [
  {
   "cell_type": "markdown",
   "metadata": {
    "id": "sXIh4f-nyIkJ"
   },
   "source": [
    "### **Feed Forward Neural Network from scratch for Hand-Written Digit classification using MNIST dataset**"
   ]
  },
  {
   "cell_type": "code",
   "execution_count": null,
   "metadata": {
    "colab": {
     "base_uri": "https://localhost:8080/"
    },
    "id": "i3OTFkJc0wzt",
    "outputId": "7da44f3d-12bb-4a76-803d-cd9e96e05c4e"
   },
   "outputs": [
    {
     "name": "stdout",
     "output_type": "stream",
     "text": [
      "Mounted at /content/drive\n"
     ]
    }
   ],
   "source": [
    "from google.colab import drive\n",
    "import pandas as pd\n",
    "\n",
    "# Mount Google Drive\n",
    "drive.mount('/content/drive')"
   ]
  },
  {
   "cell_type": "code",
   "execution_count": null,
   "metadata": {
    "id": "wZtHVPqs0w8r"
   },
   "outputs": [],
   "source": [
    "# Providing the file path after mounting\n",
    "file_path1 = '/content/drive/MyDrive/mnist_test.csv'\n",
    "test_df = pd.read_csv(file_path1)"
   ]
  },
  {
   "cell_type": "code",
   "execution_count": null,
   "metadata": {
    "colab": {
     "base_uri": "https://localhost:8080/"
    },
    "id": "QKCJkbph--M0",
    "outputId": "cb03e5a3-2445-4088-b622-9d11939cf19a"
   },
   "outputs": [
    {
     "name": "stdout",
     "output_type": "stream",
     "text": [
      "No of rows: 10000\n",
      "No of columns:785\n"
     ]
    }
   ],
   "source": [
    "print( f\"No of rows: {test_df.shape[0]}\")\n",
    "print(f\"No of columns:{test_df.shape[1]}\")"
   ]
  },
  {
   "cell_type": "code",
   "execution_count": null,
   "metadata": {
    "id": "Mr34o7g-2aq8"
   },
   "outputs": [],
   "source": [
    "# Providing the file path after mounting\n",
    "file_path2 = '/content/drive/MyDrive/mnist_train.csv'\n",
    "train_df = pd.read_csv(file_path2)"
   ]
  },
  {
   "cell_type": "code",
   "execution_count": null,
   "metadata": {
    "colab": {
     "base_uri": "https://localhost:8080/"
    },
    "id": "KzH8zaqw--xB",
    "outputId": "0faf7b5a-eb20-4966-d5ed-d9eddd17c1fb"
   },
   "outputs": [
    {
     "name": "stdout",
     "output_type": "stream",
     "text": [
      "No of rows: 60000\n",
      "No of columns:785\n"
     ]
    }
   ],
   "source": [
    "print(f\"No of rows: {train_df.shape[0]}\")\n",
    "print(f\"No of columns:{train_df.shape[1]}\")"
   ]
  },
  {
   "cell_type": "markdown",
   "metadata": {
    "id": "uRFW6bSj7v5B"
   },
   "source": [
    "#### **Importing the required libraries**"
   ]
  },
  {
   "cell_type": "code",
   "execution_count": null,
   "metadata": {
    "id": "8UmUXkoN7vZ1"
   },
   "outputs": [],
   "source": [
    "import numpy as np\n",
    "import pandas as pd\n",
    "import matplotlib.pyplot as plt"
   ]
  },
  {
   "cell_type": "markdown",
   "metadata": {
    "id": "0E8MwPeG75WC"
   },
   "source": [
    "#### **Activation Functions**"
   ]
  },
  {
   "cell_type": "code",
   "execution_count": null,
   "metadata": {
    "id": "jPxWdKJJ78gK"
   },
   "outputs": [],
   "source": [
    "def relu(z):\n",
    "    return np.maximum(0, z)       # ReLU activation: returns max(0, z)"
   ]
  },
  {
   "cell_type": "code",
   "execution_count": null,
   "metadata": {
    "id": "R32qk3DX9uvx"
   },
   "outputs": [],
   "source": [
    "def relu_derivative(a):\n",
    "    return (a > 0).astype(float)  # Derivative of ReLU: 1 if a > 0, else 0"
   ]
  },
  {
   "cell_type": "code",
   "execution_count": null,
   "metadata": {
    "id": "7LN1AOVW8DFS"
   },
   "outputs": [],
   "source": [
    "def softmax(z):\n",
    "    exp_z = np.exp(z - np.max(z, axis=0, keepdims=True))  # Stability trick for numerical stability(prevents overshooting of np.exp() when z is large)\n",
    "    return exp_z / np.sum(exp_z, axis=0, keepdims=True)   # Normalizing to get probabilities"
   ]
  },
  {
   "cell_type": "markdown",
   "metadata": {
    "id": "-OyDONFH8URr"
   },
   "source": [
    "#### **Dense Layer Forward Propagation**"
   ]
  },
  {
   "cell_type": "code",
   "execution_count": null,
   "metadata": {
    "id": "Utw_DSTl-x9s"
   },
   "outputs": [],
   "source": [
    "# Dense layer forward\n",
    "def dense_forward(x, w, b, activation):\n",
    "    z = np.dot(w, x) + b    # Linear transformation\n",
    "    if activation == \"relu\":\n",
    "        a = relu(z)         # ReLU activation\n",
    "    elif activation == \"softmax\":\n",
    "        a = softmax(z)      # Softmax activation for output layer\n",
    "    else:\n",
    "        raise ValueError(\"Unsupported activation function.\")\n",
    "    return z, a"
   ]
  },
  {
   "cell_type": "markdown",
   "metadata": {
    "id": "SyN0wv77ABnm"
   },
   "source": [
    "#### **Data Preprocessing**"
   ]
  },
  {
   "cell_type": "code",
   "execution_count": null,
   "metadata": {
    "id": "9LAdokAwAEpy"
   },
   "outputs": [],
   "source": [
    "# Normalizing pixel values to [0, 1]\n",
    "# Adding .values converts this to a NumPy array\n",
    "X_train = train_df.iloc[:, 1:].values / 255.0  # Normalizing training features\n",
    "Y_train = train_df.iloc[:, 0].values           # Extracting training labels\n",
    "\n",
    "X_test = test_df.iloc[:, 1:].values / 255.0    # Normalizing testing features\n",
    "Y_test = test_df.iloc[:, 0].values             # Extracting testing labels shape = (10000 ,)"
   ]
  },
  {
   "cell_type": "code",
   "execution_count": null,
   "metadata": {
    "id": "PXtr-8y3BsN2"
   },
   "outputs": [],
   "source": [
    "# One-hot encoding of the labels\n",
    "Y_train_one_hot = np.eye(10)[Y_train]         # One-hot encoding for training labels\n",
    "Y_test_one_hot = np.eye(10)[Y_test]           # One-hot encoding for testing labels"
   ]
  },
  {
   "cell_type": "markdown",
   "metadata": {
    "id": "kQ8Lvw35Dh5_"
   },
   "source": [
    "#### **Hyperparameters Configuration**"
   ]
  },
  {
   "cell_type": "markdown",
   "metadata": {
    "id": "R0mbx7LfEWVQ"
   },
   "source": [
    "##### NN Architecture:\n",
    "##### Input layer has 784 neurons (MNIST dataset has 784 input features for a flattened 28x28 pixels image)\n",
    "##### Hidden Layer 1 has 64 neurons\n",
    "##### Hidden Layer 2 has 32 neurons\n",
    "##### Output Layer has 10 neurons"
   ]
  },
  {
   "cell_type": "code",
   "execution_count": null,
   "metadata": {
    "id": "CZhutt8rDm_m"
   },
   "outputs": [],
   "source": [
    "config = {\n",
    "    \"layers\": [784, 64, 32, 10],   # Defining the neural network architecture\n",
    "    \"epochs\": 100,                 # Number of full passes through the training data\n",
    "    \"batch_size\": 20,              # Number of samples per mini-batch( Mini-batch Gradient Descent)\n",
    "    \"learning_rate\": 0.01,         # Step size for weight updates\n",
    "#     \"early_stopping\": True,      # Enable early stopping\n",
    "#     \"patience\": 10               # Number of epochs with no improvement of loss function (for early stopping)\n",
    "}"
   ]
  },
  {
   "cell_type": "markdown",
   "metadata": {
    "id": "UrevB7wsEE-t"
   },
   "source": [
    "#### **Initializing the weights and biases**"
   ]
  },
  {
   "cell_type": "code",
   "execution_count": null,
   "metadata": {
    "id": "3nQ0Gt6qELqK"
   },
   "outputs": [],
   "source": [
    "s = config[\"layers\"]\n",
    "w = {l: np.random.randn(s[l], s[l - 1]) * 0.01 for l in range(1, len(s))}  # Small random initialization for weights\n",
    "b = {l: np.zeros((s[l], 1)) for l in range(1, len(s))}                     # Initialized to zeros to ensure no prior influence on activations(This simplifies computations during the early stages of training)\n"
   ]
  },
  {
   "cell_type": "markdown",
   "metadata": {
    "id": "IpXbZMaALCOg"
   },
   "source": [
    "#### **Training Loop**\n",
    "##### Performs multiple training iterations (epochs). Data is shuffled each epoch for better generalization"
   ]
  },
  {
   "cell_type": "code",
   "execution_count": null,
   "metadata": {
    "colab": {
     "base_uri": "https://localhost:8080/",
     "height": 685
    },
    "id": "eqXqV8xh4eQy",
    "outputId": "faadb713-634d-424f-eb74-163a2ae86188"
   },
   "outputs": [
    {
     "name": "stdout",
     "output_type": "stream",
     "text": [
      "Epoch 10/100, Loss: 0.0312\n",
      "Epoch 20/100, Loss: 0.1124\n",
      "Epoch 30/100, Loss: 0.0022\n",
      "Epoch 40/100, Loss: 0.0017\n",
      "Epoch 50/100, Loss: 0.0065\n",
      "Epoch 60/100, Loss: 0.0069\n",
      "Epoch 70/100, Loss: 0.0023\n",
      "Epoch 80/100, Loss: 0.0215\n",
      "Epoch 90/100, Loss: 0.0034\n",
      "Epoch 100/100, Loss: 0.0031\n",
      "Test Accuracy: 97.34%\n"
     ]
    },
    {
     "data": {
      "image/png": "[encoded data removed]",
      "text/plain": [
       "<Figure size 1000x500 with 10 Axes>"
      ]
     },
     "metadata": {},
     "output_type": "display_data"
    }
   ],
   "source": [
    "best_loss = float('inf')\n",
    "# patience_counter = 0\n",
    "\n",
    "for epoch in range(config[\"epochs\"]):\n",
    "\n",
    "    # Shuffling training data\n",
    "    shuffled_indices = np.random.permutation(X_train.shape[0])       # Shuffle indices\n",
    "                                                                     # np.random.permutation(n): Generates a random permutation of integers from 0 to n-1\n",
    "                                                                     # A 1D array of randomly shuffled indices of the same length as the number of training samples\n",
    "    X_train_shuffled = X_train[shuffled_indices]                     # Shuffled training features\n",
    "    Y_train_shuffled = Y_train_one_hot[shuffled_indices]             # Shuffled training labels\n",
    "\n",
    "    for j in range(0, X_train.shape[0], config[\"batch_size\"]):       # The loop goes through the dataset in steps of batch_size. If the batch size is 20, it will loop through indices 0, 20, 40, etc.\n",
    "                                                                     # First batch will have from 0 to 19 ,next batch 20 to 39 and so on ....\n",
    "\n",
    "        batch_X = X_train_shuffled[j:j + config[\"batch_size\"], :].T  # Extracting mini-batch features\n",
    "        batch_Y = Y_train_shuffled[j:j + config[\"batch_size\"], :].T  # Extracting mini-batch labels\n",
    "\n",
    "        # Forward propagation\n",
    "        a = {0: batch_X}                                             # Input layer activations( The input to the network is the entire mini-batch)\n",
    "        z = {}                                                       # Dictionary to store z values for each layer\n",
    "\n",
    "        for l in range(1, len(s)):\n",
    "            activation = \"softmax\" if l == len(s) - 1 else \"relu\"         # Using Softmax for output layer and ReLU for hidden layers\n",
    "            z[l], a[l] = dense_forward(a[l - 1], w[l], b[l], activation)  # Computing z and activation\n",
    "\n",
    "\n",
    "        # Backward propagation\n",
    "        delta = {len(s)-1 : a[len(s) - 1] - batch_Y}                      # Error (delta) for each sample in the mini-batch at the output layer\n",
    "        dw = {}  # Gradients for weights\n",
    "        db = {}  # Gradients for biases\n",
    "        for l in range(len(s) - 1, 0, -1): # Looping backward through layers\n",
    "            dw[l] = np.dot(delta[l], a[l - 1].T) / config[\"batch_size\"]              # Gradient of weights\n",
    "            db[l] = np.sum(delta[l], axis=1, keepdims=True) / config[\"batch_size\"]   # Gradient of biases\n",
    "\n",
    "            if l > 1:  # For hidden layers\n",
    "                delta[l - 1] = np.dot(w[l].T, delta[l]) * relu_derivative(a[l - 1])  # Backpropagate error\n",
    "\n",
    "\n",
    "        # Updating weights and biases\n",
    "        for l in range(1, len(s)):\n",
    "            w[l] -= config[\"learning_rate\"] * dw[l]  # Updating weights\n",
    "            b[l] -= config[\"learning_rate\"] * db[l]  # Updating biases\n",
    "\n",
    "    # Computing loss every 10 epochs\n",
    "    y_hat = a[len(s) - 1]                                            # Output layer predictions\n",
    "    loss = -np.mean(np.sum(batch_Y * np.log(y_hat + 1e-8), axis=0))  # Cross-entropy loss\n",
    "    if (epoch + 1) % 10 == 0:\n",
    "        print(f\"Epoch {epoch + 1}/{config['epochs']}, Loss: {loss:.4f}\")\n",
    "\n",
    "    # # Early stopping check\n",
    "    # if config[\"early_stopping\"]:\n",
    "    #     if loss < best_loss:\n",
    "    #         best_loss = loss\n",
    "    #         patience_counter = 0\n",
    "    #     else:\n",
    "    #         patience_counter += 1\n",
    "    #     if patience_counter >= config[\"patience\"]:\n",
    "    #         print(f\"Early stopping at epoch {epoch + 1}.\")\n",
    "    #         break\n",
    "\n",
    "\n",
    "# Prediction function\n",
    "def predict(X, w, b, s):\n",
    "    a = X  # Input features\n",
    "    for l in range(1, len(s)):\n",
    "        activation = \"softmax\" if l == len(s) - 1 else \"relu\"  # Softmax for output, ReLU for hidden layers\n",
    "        _, a = dense_forward(a, w[l], b[l], activation)        # Computing activations\n",
    "    return np.argmax(a, axis=0)                                # Returning predicted class labels\n",
    "\n",
    "\n",
    "# Evaluating the model\n",
    "test_predictions = predict(X_test.T, w, b, s)         # Predicting on test set\n",
    "accuracy = np.mean(test_predictions == Y_test) * 100  # Computing accuracy\n",
    "print(f\"Test Accuracy: {accuracy:.2f}%\")\n",
    "\n",
    "# Displaying sample predictions vs actual labels with images\n",
    "sample_indices = np.random.choice(X_test.shape[0], 10, replace=False)\n",
    "plt.figure(figsize=(10, 5))\n",
    "for i, idx in enumerate(sample_indices):\n",
    "    plt.subplot(2, 5, i + 1)\n",
    "    plt.imshow(X_test[idx].reshape(28, 28), cmap='gray')\n",
    "    plt.title(f\"True: {Y_test[idx]}\\nPred: {test_predictions[idx]}\")\n",
    "    plt.axis('off')\n",
    "plt.tight_layout()\n",
    "plt.show()\n"
   ]
  },
  {
   "cell_type": "code",
   "execution_count": null,
   "metadata": {
    "colab": {
     "base_uri": "https://localhost:8080/"
    },
    "id": "9kPum0cijG3E",
    "outputId": "2c6c0956-c46a-479c-c5fc-1a377713f5c0"
   },
   "outputs": [
    {
     "name": "stdout",
     "output_type": "stream",
     "text": [
      "Requirement already satisfied: tabulate in /usr/local/lib/python3.10/dist-packages (0.9.0)\n"
     ]
    }
   ],
   "source": [
    "pip install tabulate"
   ]
  },
  {
   "cell_type": "code",
   "execution_count": null,
   "metadata": {
    "colab": {
     "base_uri": "https://localhost:8080/"
    },
    "id": "QGt22xTOinGC",
    "outputId": "50359fa0-2dd2-4cdf-d6c7-024f325d708f"
   },
   "outputs": [
    {
     "name": "stdout",
     "output_type": "stream",
     "text": [
      "+----------------+--------------+--------------+----------------+--------------+--------------+\n",
      "| Layer          | W[l] Shape   | b[l] Shape   | a[l-1] Shape   | z[l] Shape   | a[l] Shape   |\n",
      "+================+==============+==============+================+==============+==============+\n",
      "| Input Layer    | -            | -            | (784, 20)      | -            | -            |\n",
      "+----------------+--------------+--------------+----------------+--------------+--------------+\n",
      "| Hidden Layer 1 | (64, 784)    | (64, 1)      | (784, 20)      | (64, 20)     | (64, 20)     |\n",
      "+----------------+--------------+--------------+----------------+--------------+--------------+\n",
      "| Hidden Layer 2 | (32, 64)     | (32, 1)      | (64, 20)       | (32, 20)     | (32, 20)     |\n",
      "+----------------+--------------+--------------+----------------+--------------+--------------+\n",
      "| Output Layer   | (10, 32)     | (10, 1)      | (32, 20)       | (10, 20)     | (10, 20)     |\n",
      "+----------------+--------------+--------------+----------------+--------------+--------------+\n"
     ]
    }
   ],
   "source": [
    "from tabulate import tabulate\n",
    "\n",
    "# Layer sizes\n",
    "input_size = 784  # Number of features in the input\n",
    "hidden_layer1_size = 64\n",
    "hidden_layer2_size = 32\n",
    "output_size = 10  # Number of output classes\n",
    "\n",
    "# Initializing layer dimensions for each layer\n",
    "layer_sizes = [input_size, hidden_layer1_size, hidden_layer2_size, output_size]\n",
    "\n",
    "# Preparing data for the table\n",
    "data = []\n",
    "\n",
    "# Input layer\n",
    "data.append([\"Input Layer\", \"-\", \"-\", f\"({input_size}, 20)\", \"-\", \"-\"])\n",
    "\n",
    "# Hidden Layer 1\n",
    "data.append([f\"Hidden Layer 1\", f\"({hidden_layer1_size}, {input_size})\", f\"({hidden_layer1_size}, 1)\", f\"({input_size}, 20)\", f\"({hidden_layer1_size}, 20)\", f\"({hidden_layer1_size}, 20)\"])\n",
    "\n",
    "# Hidden Layer 2\n",
    "data.append([f\"Hidden Layer 2\", f\"({hidden_layer2_size}, {hidden_layer1_size})\", f\"({hidden_layer2_size}, 1)\", f\"({hidden_layer1_size}, 20)\", f\"({hidden_layer2_size}, 20)\", f\"({hidden_layer2_size}, 20)\"])\n",
    "\n",
    "# Output Layer\n",
    "data.append([f\"Output Layer\", f\"({output_size}, {hidden_layer2_size})\", f\"({output_size}, 1)\", f\"({hidden_layer2_size}, 20)\", f\"({output_size}, 20)\", f\"({output_size}, 20)\"])\n",
    "\n",
    "# Creating the table with borders and lines\n",
    "table = tabulate(data, headers=[\"Layer\", \"W[l] Shape\", \"b[l] Shape\", \"a[l-1] Shape\", \"z[l] Shape\", \"a[l] Shape\"], tablefmt=\"grid\")\n",
    "\n",
    "# Displaying the table\n",
    "print(table)\n"
   ]
  }
 ],
 "metadata": {
  "accelerator": "GPU",
  "colab": {
   "gpuType": "T4",
   "provenance": []
  },
  "kernelspec": {
   "display_name": "Python 3 (ipykernel)",
   "language": "python",
   "name": "python3"
  },
  "language_info": {
   "codemirror_mode": {
    "name": "ipython",
    "version": 3
   },
   "file_extension": ".py",
   "mimetype": "text/x-python",
   "name": "python",
   "nbconvert_exporter": "python",
   "pygments_lexer": "ipython3",
   "version": "3.12.4"
  }
 },
 "nbformat": 4,
 "nbformat_minor": 4
}
